{
 "cells": [
  {
   "cell_type": "markdown",
   "metadata": {},
   "source": [
    "# Updating exam_structure.json\n",
    "\n",
    "This notebook is for updating, and adding new exams to the exam_structure.json file. This is mostly for updating the _structure_ attribute of the .json, as it is a nested dictonary and preserving the JSON format can be difficult."
   ]
  },
  {
   "cell_type": "code",
   "execution_count": 1,
   "metadata": {},
   "outputs": [],
   "source": [
    "import json\n",
    "import pandas as pd\n",
    "import numpy as np"
   ]
  },
  {
   "cell_type": "code",
   "execution_count": 2,
   "metadata": {},
   "outputs": [],
   "source": [
    "def json_format_preserver(df, json_filename):\n",
    "    '''\n",
    "    A shortcut way to make sure that the JSON file has its format preserved.\n",
    "    Takes:\n",
    "    df: a dataframe that wants to be converted to JSON format.\n",
    "    json_filename: the filename of the JSON file. If it is not in the PWD, please\n",
    "                   include the absolute filepath.\n",
    "\n",
    "    Returns:\n",
    "    None\n",
    "    '''\n",
    "\n",
    "    formatter = json.loads(df.to_json(orient='records'))\n",
    "\n",
    "    with open(json_filename, 'w') as f:\n",
    "        json.dump(formatter, f, indent=4)"
   ]
  },
  {
   "cell_type": "markdown",
   "metadata": {},
   "source": [
    "The above function just helps with the tricky formatting.\n",
    "\n",
    "Below we load in the JSON file."
   ]
  },
  {
   "cell_type": "code",
   "execution_count": 3,
   "metadata": {},
   "outputs": [],
   "source": [
    "exam_structure = pd.read_json('exam_details.json')"
   ]
  },
  {
   "cell_type": "code",
   "execution_count": 4,
   "metadata": {
    "scrolled": false
   },
   "outputs": [
    {
     "data": {
      "text/html": [
       "<div>\n",
       "<style scoped>\n",
       "    .dataframe tbody tr th:only-of-type {\n",
       "        vertical-align: middle;\n",
       "    }\n",
       "\n",
       "    .dataframe tbody tr th {\n",
       "        vertical-align: top;\n",
       "    }\n",
       "\n",
       "    .dataframe thead th {\n",
       "        text-align: right;\n",
       "    }\n",
       "</style>\n",
       "<table border=\"1\" class=\"dataframe\">\n",
       "  <thead>\n",
       "    <tr style=\"text-align: right;\">\n",
       "      <th></th>\n",
       "      <th>name</th>\n",
       "      <th>gradebook</th>\n",
       "      <th>formlink</th>\n",
       "      <th>structure</th>\n",
       "    </tr>\n",
       "  </thead>\n",
       "  <tbody>\n",
       "    <tr>\n",
       "      <td>0</td>\n",
       "      <td>Python Midterm</td>\n",
       "      <td>1LxSk2Kpbio9J7x9mxI5V3T0Cjx9POrTwLyLDWUNLXm8</td>\n",
       "      <td>https://docs.google.com/forms/d/e/1FAIpQLSc-bf...</td>\n",
       "      <td>{'Python Exam': [{'Question 1': ['Binary Searc...</td>\n",
       "    </tr>\n",
       "    <tr>\n",
       "      <td>1</td>\n",
       "      <td>Example Exam</td>\n",
       "      <td>1EslwwOrJuor0NyolZTmkQHe6Dc7oN2Ta3TZatuq_Qnc</td>\n",
       "      <td>https://docs.google.com/forms/d/e/1FAIpQLSdeOg...</td>\n",
       "      <td>{}</td>\n",
       "    </tr>\n",
       "    <tr>\n",
       "      <td>2</td>\n",
       "      <td>R Midterm</td>\n",
       "      <td>1u0Oy0LTGmMQxvjnL1s_pc1jho-eSp-kOgsmHR1cae00</td>\n",
       "      <td>https://docs.google.com/forms/d/e/1FAIpQLSfUfw...</td>\n",
       "      <td>{'R Exam': [{'File I/O': [{'Problem 1': ['List...</td>\n",
       "    </tr>\n",
       "    <tr>\n",
       "      <td>3</td>\n",
       "      <td>Python Machine Learning Midterm</td>\n",
       "      <td>1mzjHqTFNz2qfnOb9FKb74IuUe4GLDdqExHZscsIs2cA</td>\n",
       "      <td>https://docs.google.com/forms/d/e/1FAIpQLSfhrt...</td>\n",
       "      <td>{'Exploratory Data Analysis': [{'Subquestion 1...</td>\n",
       "    </tr>\n",
       "  </tbody>\n",
       "</table>\n",
       "</div>"
      ],
      "text/plain": [
       "                              name  \\\n",
       "0                   Python Midterm   \n",
       "1                     Example Exam   \n",
       "2                        R Midterm   \n",
       "3  Python Machine Learning Midterm   \n",
       "\n",
       "                                      gradebook  \\\n",
       "0  1LxSk2Kpbio9J7x9mxI5V3T0Cjx9POrTwLyLDWUNLXm8   \n",
       "1  1EslwwOrJuor0NyolZTmkQHe6Dc7oN2Ta3TZatuq_Qnc   \n",
       "2  1u0Oy0LTGmMQxvjnL1s_pc1jho-eSp-kOgsmHR1cae00   \n",
       "3  1mzjHqTFNz2qfnOb9FKb74IuUe4GLDdqExHZscsIs2cA   \n",
       "\n",
       "                                            formlink  \\\n",
       "0  https://docs.google.com/forms/d/e/1FAIpQLSc-bf...   \n",
       "1  https://docs.google.com/forms/d/e/1FAIpQLSdeOg...   \n",
       "2  https://docs.google.com/forms/d/e/1FAIpQLSfUfw...   \n",
       "3  https://docs.google.com/forms/d/e/1FAIpQLSfhrt...   \n",
       "\n",
       "                                           structure  \n",
       "0  {'Python Exam': [{'Question 1': ['Binary Searc...  \n",
       "1                                                 {}  \n",
       "2  {'R Exam': [{'File I/O': [{'Problem 1': ['List...  \n",
       "3  {'Exploratory Data Analysis': [{'Subquestion 1...  "
      ]
     },
     "execution_count": 4,
     "metadata": {},
     "output_type": "execute_result"
    }
   ],
   "source": [
    "exam_structure"
   ]
  },
  {
   "cell_type": "markdown",
   "metadata": {},
   "source": [
    "The four attributes of any exam are as follows:\n",
    "\n",
    "- __name__ : the name of the exam\n",
    "- __gradebook__ : the ID of the google sheets containing the gradebook\n",
    "- __formlink__  : the link to the google forms\n",
    "- __structure__ : a nested dictonary of tuples that contains information about the exam.\n",
    "\n",
    "As a quick example, if you have a gradebook with the ID 1LxSk2Kpbio9J7x9mxI5V3T0Cjx9POrTwLyLDWUNLXm8, then the link would be https://docs.google.com/spreadsheets/d/1LxSk2Kpbio9J7x9mxI5V3T0Cjx9POrTwLyLDWUNLXm8/"
   ]
  },
  {
   "cell_type": "code",
   "execution_count": 5,
   "metadata": {},
   "outputs": [],
   "source": [
    "example_exam = {'name'      : 'Example Exam',\n",
    "                'gradebook' : 'GRADEBOOK_ID',\n",
    "                'formlink'  : 'FORM_LINK',\n",
    "                'structure' : 'STRUCTURE_DICT'}"
   ]
  },
  {
   "cell_type": "markdown",
   "metadata": {},
   "source": [
    "Below we go more indepth into how the actual exam structure is written. They are nested dictonaries with nested lists inside of them. The first key is always _the name of the exam_, which should key into a list where the first entry is the \"section\" (which in this case is the whole exam) and the second entry is the number of points this section is out of. Once we reach a list where the first item is a string, we can safely say that the string is a description of the question.\n",
    "\n",
    "To highlight this in an example, we include two below. In the first one, we can see that we have a 'Question 1' as a key in our dict, that has the value \\['An Example', 5\\], where 'An Example' is a description for 'Question 1'.\n",
    "\n",
    "Similarly, 'Subsection 1' has a dictonary as the first item in it's list, so it is technically a section. The second item is a section total. Since there is a 5 point question ('Subquestion 2') and a 10 point question ('Subquestion 1'), so the section total is 15 points.\n",
    "\n",
    "We can see a real example below the toy example, included is the structure for the __R EDA exam__."
   ]
  },
  {
   "cell_type": "code",
   "execution_count": 9,
   "metadata": {},
   "outputs": [],
   "source": [
    "example_exam_str = {'Example Exam' : [{'Question 1' : ['An Example', 5],\n",
    "                                       'Subsection 1' :\n",
    "                                          [{'Subquestion 1' : ['Secondary Example', 10],\n",
    "                                            'Subquestion 2' : ['Another Description', 5]}, 15]}, 20]}"
   ]
  },
  {
   "cell_type": "code",
   "execution_count": 11,
   "metadata": {},
   "outputs": [],
   "source": [
    "r_structure = {'R Exam' : [{\"File I/O\" : [{\"Problem 1\" : [\"Listing your Files\", 5],\n",
    "               \"Problem 2\" : [\"Appending the Filepath\", 5],\n",
    "               \"Problem 3\" : [\"Loading in your Data\", 10]}, 20],\n",
    "               \"Wrangling\" : [{\"Problem 4\" : [\"Filtering your Data\", 10],\n",
    "               \"Problem 5.a\" : [\"Cleaning Dates Part 1\", 15],\n",
    "               \"Problem 5.b\" : [\"Cleaning Dates Part 2\", 15],\n",
    "               \"Problem 6\" : [\"Cleaning Amounts\", 15],\n",
    "               \"Problem 7\" : [\"Combining your Data\", 15]}, 70],\n",
    "               \"Exploration\" :[{\"Problem 8\" : [\"Calculating Total Payments\", 5],\n",
    "               \"Problem 9\" : [\"Calculating Coverage Period\", 10],\n",
    "               \"Problem 10\" : [\"Calculating Average Annual Expenditure\", 15],\n",
    "               \"Problem 11\" : [\"Cleaning Office and Purpose Columns\", 15],\n",
    "               \"Problem 12\" : [\"Finding Purpose for the Spending\", 25]}, 70]}, 160]}"
   ]
  },
  {
   "cell_type": "markdown",
   "metadata": {},
   "source": [
    "Below is a function built on the same logic as how the reporter.py file interacts with the exam structure. You can test out the exam structures to make sure if they will be read properly by using the command."
   ]
  },
  {
   "cell_type": "code",
   "execution_count": 7,
   "metadata": {},
   "outputs": [],
   "source": [
    "def exam_str_parser(dictonary):\n",
    "    for key in dictonary.keys():\n",
    "        if type(dictonary[key][0]) == dict:\n",
    "            print(\"Section: \", key)\n",
    "            print(\"Out of\", dictonary[key][1], \"points\")\n",
    "            for item in dictonary[key][0].items():\n",
    "                print(item[0], \" : \", item[1][0])\n",
    "        else:\n",
    "            print(\"it doesn't happen\")"
   ]
  },
  {
   "cell_type": "code",
   "execution_count": 8,
   "metadata": {
    "scrolled": false
   },
   "outputs": [
    {
     "name": "stdout",
     "output_type": "stream",
     "text": [
      "Section:  Example Exam\n",
      "Out of 15 points\n",
      "Question 1  :  An Example\n",
      "Subsection 1  :  {'Subquestion 1': ['Secondary Example', 10]}\n"
     ]
    }
   ],
   "source": [
    "exam_str_parser(example_exam_str)"
   ]
  },
  {
   "cell_type": "code",
   "execution_count": 12,
   "metadata": {},
   "outputs": [],
   "source": [
    "example_exam['structure'] = example_exam_str"
   ]
  },
  {
   "cell_type": "code",
   "execution_count": 18,
   "metadata": {},
   "outputs": [],
   "source": [
    "temp = exam_structure.loc[3, 'structure']"
   ]
  },
  {
   "cell_type": "code",
   "execution_count": 29,
   "metadata": {},
   "outputs": [],
   "source": [
    "temp = {'Python Machine Learning Midterm': [temp, 100]}"
   ]
  },
  {
   "cell_type": "code",
   "execution_count": 27,
   "metadata": {},
   "outputs": [],
   "source": [
    "exam_structure.at[3,'structure'] = temp"
   ]
  },
  {
   "cell_type": "code",
   "execution_count": 28,
   "metadata": {
    "scrolled": true
   },
   "outputs": [
    {
     "data": {
      "text/html": [
       "<div>\n",
       "<style scoped>\n",
       "    .dataframe tbody tr th:only-of-type {\n",
       "        vertical-align: middle;\n",
       "    }\n",
       "\n",
       "    .dataframe tbody tr th {\n",
       "        vertical-align: top;\n",
       "    }\n",
       "\n",
       "    .dataframe thead th {\n",
       "        text-align: right;\n",
       "    }\n",
       "</style>\n",
       "<table border=\"1\" class=\"dataframe\">\n",
       "  <thead>\n",
       "    <tr style=\"text-align: right;\">\n",
       "      <th></th>\n",
       "      <th>name</th>\n",
       "      <th>gradebook</th>\n",
       "      <th>formlink</th>\n",
       "      <th>structure</th>\n",
       "    </tr>\n",
       "  </thead>\n",
       "  <tbody>\n",
       "    <tr>\n",
       "      <td>0</td>\n",
       "      <td>Python Midterm</td>\n",
       "      <td>1LxSk2Kpbio9J7x9mxI5V3T0Cjx9POrTwLyLDWUNLXm8</td>\n",
       "      <td>https://docs.google.com/forms/d/e/1FAIpQLSc-bf...</td>\n",
       "      <td>{'Python Exam': [{'Question 1': ['Binary Searc...</td>\n",
       "    </tr>\n",
       "    <tr>\n",
       "      <td>1</td>\n",
       "      <td>Example Exam</td>\n",
       "      <td>1EslwwOrJuor0NyolZTmkQHe6Dc7oN2Ta3TZatuq_Qnc</td>\n",
       "      <td>https://docs.google.com/forms/d/e/1FAIpQLSdeOg...</td>\n",
       "      <td>{}</td>\n",
       "    </tr>\n",
       "    <tr>\n",
       "      <td>2</td>\n",
       "      <td>R Midterm</td>\n",
       "      <td>1u0Oy0LTGmMQxvjnL1s_pc1jho-eSp-kOgsmHR1cae00</td>\n",
       "      <td>https://docs.google.com/forms/d/e/1FAIpQLSfUfw...</td>\n",
       "      <td>{'R Exam': [{'File I/O': [{'Problem 1': ['List...</td>\n",
       "    </tr>\n",
       "    <tr>\n",
       "      <td>3</td>\n",
       "      <td>Python Machine Learning Midterm</td>\n",
       "      <td>1mzjHqTFNz2qfnOb9FKb74IuUe4GLDdqExHZscsIs2cA</td>\n",
       "      <td>https://docs.google.com/forms/d/e/1FAIpQLSfhrt...</td>\n",
       "      <td>{'Python Machine Learning Midterm': [{'Explora...</td>\n",
       "    </tr>\n",
       "  </tbody>\n",
       "</table>\n",
       "</div>"
      ],
      "text/plain": [
       "                              name  \\\n",
       "0                   Python Midterm   \n",
       "1                     Example Exam   \n",
       "2                        R Midterm   \n",
       "3  Python Machine Learning Midterm   \n",
       "\n",
       "                                      gradebook  \\\n",
       "0  1LxSk2Kpbio9J7x9mxI5V3T0Cjx9POrTwLyLDWUNLXm8   \n",
       "1  1EslwwOrJuor0NyolZTmkQHe6Dc7oN2Ta3TZatuq_Qnc   \n",
       "2  1u0Oy0LTGmMQxvjnL1s_pc1jho-eSp-kOgsmHR1cae00   \n",
       "3  1mzjHqTFNz2qfnOb9FKb74IuUe4GLDdqExHZscsIs2cA   \n",
       "\n",
       "                                            formlink  \\\n",
       "0  https://docs.google.com/forms/d/e/1FAIpQLSc-bf...   \n",
       "1  https://docs.google.com/forms/d/e/1FAIpQLSdeOg...   \n",
       "2  https://docs.google.com/forms/d/e/1FAIpQLSfUfw...   \n",
       "3  https://docs.google.com/forms/d/e/1FAIpQLSfhrt...   \n",
       "\n",
       "                                           structure  \n",
       "0  {'Python Exam': [{'Question 1': ['Binary Searc...  \n",
       "1                                                 {}  \n",
       "2  {'R Exam': [{'File I/O': [{'Problem 1': ['List...  \n",
       "3  {'Python Machine Learning Midterm': [{'Explora...  "
      ]
     },
     "execution_count": 28,
     "metadata": {},
     "output_type": "execute_result"
    }
   ],
   "source": [
    "exam_structure"
   ]
  },
  {
   "cell_type": "markdown",
   "metadata": {},
   "source": [
    "# Writing back to the file\n",
    "\n",
    "We have it set up a basic pipeline in order to save the file back to itself. By default, we save it to a test.json file, you have to turn the \"FINAL_SAVE\" flag to TRUE in order to get the following section to work."
   ]
  },
  {
   "cell_type": "code",
   "execution_count": 32,
   "metadata": {},
   "outputs": [],
   "source": [
    "new_exam_structure = exam_structure.append(example_exam, ignore_index = True)"
   ]
  },
  {
   "cell_type": "code",
   "execution_count": 36,
   "metadata": {},
   "outputs": [],
   "source": [
    "FINAL_SAVE = False"
   ]
  },
  {
   "cell_type": "code",
   "execution_count": 35,
   "metadata": {},
   "outputs": [],
   "source": [
    "if FINAL_SAVE:\n",
    "    filename = 'exam_details.json'\n",
    "else:\n",
    "    filename = 'test.json'\n",
    "\n",
    "json_format_preserver(new_exam_structure, filename)"
   ]
  }
 ],
 "metadata": {
  "kernelspec": {
   "display_name": "Python 3",
   "language": "python",
   "name": "python3"
  },
  "language_info": {
   "codemirror_mode": {
    "name": "ipython",
    "version": 3
   },
   "file_extension": ".py",
   "mimetype": "text/x-python",
   "name": "python",
   "nbconvert_exporter": "python",
   "pygments_lexer": "ipython3",
   "version": "3.9.1"
  }
 },
 "nbformat": 4,
 "nbformat_minor": 2
}
